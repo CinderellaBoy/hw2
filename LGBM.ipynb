{
 "cells": [
  {
   "cell_type": "code",
   "execution_count": 4,
   "id": "bd9c841a-e713-460b-8fc1-90f62b0cf751",
   "metadata": {},
   "outputs": [
    {
     "name": "stdout",
     "output_type": "stream",
     "text": [
      "数据合并完成，总行数： 942045\n",
      "故障标签分布：\n",
      " fault\n",
      "0    941946\n",
      "1        99\n",
      "Name: count, dtype: int64\n",
      "原始类别分布： Counter({0: 941946, 1: 99})\n",
      "SMOTE后类别分布： Counter({0: 941946, 1: 941946})\n",
      "[LightGBM] [Info] Number of positive: 753557, number of negative: 753556\n",
      "[LightGBM] [Info] Auto-choosing row-wise multi-threading, the overhead of testing was 0.026505 seconds.\n",
      "You can set `force_row_wise=true` to remove the overhead.\n",
      "And if memory is not enough, you can set `force_col_wise=true`.\n",
      "[LightGBM] [Info] Total Bins 3306\n",
      "[LightGBM] [Info] Number of data points in the train set: 1507113, number of used features: 14\n",
      "[LightGBM] [Info] [binary:BoostFromScore]: pavg=0.500000 -> initscore=0.000001\n",
      "[LightGBM] [Info] Start training from score 0.000001\n"
     ]
    },
    {
     "name": "stderr",
     "output_type": "stream",
     "text": [
      "C:\\Users\\86135\\anaconda3\\Lib\\site-packages\\sklearn\\utils\\validation.py:2739: UserWarning: X does not have valid feature names, but LGBMClassifier was fitted with feature names\n",
      "  warnings.warn(\n"
     ]
    },
    {
     "name": "stdout",
     "output_type": "stream",
     "text": [
      "\n",
      "--- 优化后的分类报告 ---\n",
      "              precision     recall   f1-score    support\n",
      "0                0.9994     0.9931     0.9962     188390\n",
      "1                0.9931     0.9994     0.9963     188389\n"
     ]
    }
   ],
   "source": [
    "import pandas as pd\n",
    "import numpy as np\n",
    "import os\n",
    "from sklearn.model_selection import train_test_split\n",
    "from sklearn.preprocessing import StandardScaler\n",
    "from sklearn.metrics import classification_report\n",
    "from imblearn.over_sampling import SMOTE\n",
    "from collections import Counter\n",
    "from lightgbm import LGBMClassifier  # LightGBM 的分类器\n",
    "\n",
    "def load_and_merge_data(directory, filenames):\n",
    "    all_dfs = []\n",
    "    for file in filenames:\n",
    "        path = os.path.join(directory, file)\n",
    "        df = pd.read_csv(path)\n",
    "        # 定义故障标签：如果 f17 或 f18 为 1，则为故障（fault=1），否则为正常（fault=0）\n",
    "        df['fault'] = np.where((df['f17'] == 1) | (df['f18'] == 1), 1, 0)\n",
    "        all_dfs.append(df)\n",
    "    merged_df = pd.concat(all_dfs, ignore_index=True)\n",
    "    print(\"数据合并完成，总行数：\", len(merged_df))\n",
    "    print(\"故障标签分布：\\n\", merged_df['fault'].value_counts())\n",
    "    return merged_df\n",
    "\n",
    "def build_features(df):\n",
    "    # 去掉 f1, f2（比如时间和编号）以及 f17, f18（用于创建 fault 标签）列\n",
    "    feature_cols = df.columns.difference(['f1', 'f2', 'f17', 'f18', 'fault'])\n",
    "    X = df[feature_cols]\n",
    "    y = df['fault']\n",
    "    # 标准化，转换为均值为0、方差为1的数据\n",
    "    scaler = StandardScaler()\n",
    "    X_scaled = scaler.fit_transform(X)\n",
    "    return X_scaled, y\n",
    "\n",
    "def train_and_evaluate(X, y):\n",
    "    print(\"原始类别分布：\", Counter(y))\n",
    "    \n",
    "    # 使用 SMOTE 方法生成合成少数类样本以平衡数据\n",
    "    smote = SMOTE(random_state=42)\n",
    "    X_resampled, y_resampled = smote.fit_resample(X, y)\n",
    "    print(\"SMOTE后类别分布：\", Counter(y_resampled))\n",
    "    \n",
    "    # 拆分数据集，80% 作为训练集，20% 作为测试集，使用 stratify 保持标签比例\n",
    "    X_train, X_test, y_train, y_test = train_test_split(\n",
    "        X_resampled, y_resampled, test_size=0.2, random_state=42, stratify=y_resampled\n",
    "    )\n",
    "    \n",
    "    # 使用 LightGBM 分类器，设置 100 棵树，最大深度为 12，固定随机种子保证结果可复现\n",
    "    clf = LGBMClassifier(n_estimators=100, max_depth=11, random_state=42)\n",
    "    clf.fit(X_train, y_train)\n",
    "    \n",
    "    y_test_pred = clf.predict(X_test)\n",
    "    \n",
    "    print(\"\\n--- 优化后的分类报告 ---\")\n",
    "    # 输出评估报告，包含 precision, recall, f1-score 和 support\n",
    "    report_dict = classification_report(y_test, y_test_pred, output_dict=True)\n",
    "    print(\"{:<12} {:>10} {:>10} {:>10} {:>10}\".format(\n",
    "        \"\", \"precision\", \"recall\", \"f1-score\", \"support\"))\n",
    "    for label in [\"0\", \"1\"]:\n",
    "        row = report_dict[label]\n",
    "        print(\"{:<12} {:10.4f} {:10.4f} {:10.4f} {:10.0f}\".format(\n",
    "            label, row[\"precision\"], row[\"recall\"], row[\"f1-score\"], row[\"support\"]))\n",
    "\n",
    "def main():\n",
    "    data_dir = r\"E:\\Datahw2\"\n",
    "    file_list = [f\"tube{i}.csv\" for i in range(1, 6)]\n",
    "    df = load_and_merge_data(data_dir, file_list)\n",
    "    X, y = build_features(df)\n",
    "    train_and_evaluate(X, y)\n",
    "\n",
    "if __name__ == \"__main__\":\n",
    "    main()\n"
   ]
  },
  {
   "cell_type": "code",
   "execution_count": null,
   "id": "98bcc0f0-c763-408e-b0fa-55b04b459d46",
   "metadata": {},
   "outputs": [],
   "source": []
  }
 ],
 "metadata": {
  "kernelspec": {
   "display_name": "Python 3 (ipykernel)",
   "language": "python",
   "name": "python3"
  },
  "language_info": {
   "codemirror_mode": {
    "name": "ipython",
    "version": 3
   },
   "file_extension": ".py",
   "mimetype": "text/x-python",
   "name": "python",
   "nbconvert_exporter": "python",
   "pygments_lexer": "ipython3",
   "version": "3.11.5"
  }
 },
 "nbformat": 4,
 "nbformat_minor": 5
}
