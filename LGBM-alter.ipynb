{
 "cells": [
  {
   "cell_type": "code",
   "execution_count": 17,
   "id": "5cf74983-5505-4b75-9298-0c7436051108",
   "metadata": {},
   "outputs": [
    {
     "name": "stdout",
     "output_type": "stream",
     "text": [
      "合并后数据形状: (942045, 18)\n"
     ]
    },
    {
     "name": "stderr",
     "output_type": "stream",
     "text": [
      "C:\\Users\\86135\\anaconda3\\Lib\\site-packages\\pandas\\core\\arraylike.py:396: RuntimeWarning: invalid value encountered in log\n",
      "  result = getattr(ufunc, method)(*inputs, **kwargs)\n"
     ]
    },
    {
     "name": "stdout",
     "output_type": "stream",
     "text": [
      "【功率特征】均值: -0.1322, 标准差: 1.0158, 异常区间: <-0.6401, 0.3757>\n",
      "【部件B热效应】q_b 均值: -0.0980, 标准差: 1.8813, 异常区间: <-1.0387, 0.8426>\n",
      "【部件C Arrhenius】均值: -2.7169, 标准差: 10.4448, 异常区间: <-7.9393, 2.5055>\n",
      "综合故障标签分布：\n",
      " global_fault\n",
      "0    783881\n",
      "1    158164\n",
      "Name: count, dtype: int64\n",
      "[LightGBM] [Info] Number of positive: 126531, number of negative: 627105\n",
      "[LightGBM] [Info] Auto-choosing row-wise multi-threading, the overhead of testing was 0.020246 seconds.\n",
      "You can set `force_row_wise=true` to remove the overhead.\n",
      "And if memory is not enough, you can set `force_col_wise=true`.\n",
      "[LightGBM] [Info] Total Bins 2838\n",
      "[LightGBM] [Info] Number of data points in the train set: 753636, number of used features: 19\n",
      "[LightGBM] [Info] [binary:BoostFromScore]: pavg=0.167894 -> initscore=-1.600627\n",
      "[LightGBM] [Info] Start training from score -1.600627\n"
     ]
    },
    {
     "name": "stderr",
     "output_type": "stream",
     "text": [
      "C:\\Users\\86135\\anaconda3\\Lib\\site-packages\\sklearn\\utils\\validation.py:2739: UserWarning: X does not have valid feature names, but LGBMClassifier was fitted with feature names\n",
      "  warnings.warn(\n"
     ]
    },
    {
     "name": "stdout",
     "output_type": "stream",
     "text": [
      "混淆矩阵：\n",
      " [[156772      4]\n",
      " [     2  31631]]\n",
      "分类报告：\n",
      "               precision    recall  f1-score   support\n",
      "\n",
      "           0       1.00      1.00      1.00    156776\n",
      "           1       1.00      1.00      1.00     31633\n",
      "\n",
      "    accuracy                           1.00    188409\n",
      "   macro avg       1.00      1.00      1.00    188409\n",
      "weighted avg       1.00      1.00      1.00    188409\n",
      "\n"
     ]
    }
   ],
   "source": [
    "import os\n",
    "import pandas as pd\n",
    "import numpy as np\n",
    "from sklearn.preprocessing import StandardScaler\n",
    "from sklearn.model_selection import train_test_split\n",
    "from lightgbm import LGBMClassifier\n",
    "from sklearn.metrics import classification_report, confusion_matrix\n",
    "\n",
    "# 1. 加载并合并数据：读取 E:\\Datahw2 目录下的 tube1.csv～tube5.csv\n",
    "data_list = []\n",
    "data_dir = r\"E:\\Datahw2\"\n",
    "for i in range(1, 6):\n",
    "    file_path = os.path.join(data_dir, f\"tube{i}.csv\")\n",
    "    df = pd.read_csv(file_path)\n",
    "    data_list.append(df)\n",
    "data = pd.concat(data_list, ignore_index=True)\n",
    "print(f\"合并后数据形状: {data.shape}\")\n",
    "\n",
    "# 2. 对 f1 到 f16 进行标准化\n",
    "cols = [f\"f{i}\" for i in range(1, 17)]\n",
    "scaler = StandardScaler()\n",
    "data_std = scaler.fit_transform(data[cols])\n",
    "data_std = pd.DataFrame(data_std, columns=cols)\n",
    "data.update(data_std)\n",
    "\n",
    "# 3. 构造新特征\n",
    "epsilon = 1e-6\n",
    "\n",
    "# 3.1 功率特征：power = f7 * f8\n",
    "data['power'] = data['f7'] * data['f8']\n",
    "\n",
    "# 3.2 部件B热效应特征：q_b = (f10)^2 * f14\n",
    "data['q_b'] = (data['f10'] ** 2) * data['f14']\n",
    "\n",
    "# 3.3 部件C Arrhenius 特征：采用改进公式\n",
    "# arrhenius_c = ln(f16 + ε) - 1/(f15 + ε)\n",
    "data['arrhenius_c'] = np.log(data['f16'] + epsilon) - 1 / (data['f15'] + epsilon)\n",
    "\n",
    "# 4. 定义异常判断函数（收紧阈值因子至 0.5，使异常样本减少）\n",
    "def mark_abnormal(series, factor=1):\n",
    "    mean_val = series.mean()\n",
    "    std_val = series.std()\n",
    "    low, high = mean_val - factor * std_val, mean_val + factor * std_val\n",
    "    abnormal_flag = ~series.between(low, high)  # 超出区间认为异常\n",
    "    return abnormal_flag, mean_val, std_val, low, high\n",
    "\n",
    "# 4.1 对功率特征判断异常\n",
    "data['power_abnormal'], power_mean, power_std, power_low, power_high = mark_abnormal(data['power'], factor=0.5)\n",
    "# 4.2 对 q_b 特征判断异常\n",
    "data['q_b_abnormal'], qb_mean, qb_std, qb_low, qb_high = mark_abnormal(data['q_b'], factor=0.5)\n",
    "# 4.3 对 arrhenius_c 特征判断异常\n",
    "data['arrhenius_abnormal'], arr_mean, arr_std, arr_low, arr_high = mark_abnormal(data['arrhenius_c'], factor=0.5)\n",
    "\n",
    "print(f\"【功率特征】均值: {power_mean:.4f}, 标准差: {power_std:.4f}, 异常区间: <{power_low:.4f}, {power_high:.4f}>\")\n",
    "print(f\"【部件B热效应】q_b 均值: {qb_mean:.4f}, 标准差: {qb_std:.4f}, 异常区间: <{qb_low:.4f}, {qb_high:.4f}>\")\n",
    "print(f\"【部件C Arrhenius】均值: {arr_mean:.4f}, 标准差: {arr_std:.4f}, 异常区间: <{arr_low:.4f}, {arr_high:.4f}>\")\n",
    "\n",
    "# 5. 综合故障标签构造\n",
    "# ① 基本故障指标：原始 f17 和 f18 指示异常，原逻辑为 ((f17==1)|(f18==1))，但这里我们希望故障标签为 0，所以取反\n",
    "data['basic_normal'] = 1 - ((data['f17'] == 1) | (data['f18'] == 1)).astype(int)\n",
    "# ② 综合各新特征的异常指标；如果任一新特征异常，则认为存在故障（即非正常）\n",
    "#    这里用 or 逻辑得到一个异常标记（1 表示异常）\n",
    "data['new_abnormal'] = data[['power_abnormal', 'q_b_abnormal', 'arrhenius_abnormal']].any(axis=1).astype(int)\n",
    "# ③ 综合判断：设定全局标签为 1 表示正常，0 表示故障。\n",
    "#     为了使故障样本很少，我们定义：只有当基本指标也正常且各新特征都正常时，才认定为正常，否则判定为故障。\n",
    "#     即：global_fault = 1 if (basic_normal==1 and new_abnormal==0) else 0\n",
    "data['global_fault'] = ((data['basic_normal'] == 1) & (data['new_abnormal'] == 0)).astype(int)\n",
    "# 故障样本为 0，正常样本为 1\n",
    "print(\"综合故障标签分布：\\n\", data['global_fault'].value_counts())\n",
    "\n",
    "# 6. 选取所有特征：将原始特征 f1–f16 与新构造特征加入\n",
    "feature_cols = [f\"f{i}\" for i in range(1, 17)] + ['power', 'q_b', 'arrhenius_c']\n",
    "X = data[feature_cols]\n",
    "y = data['global_fault']\n",
    "\n",
    "# 7. 对所有选取特征进行标准化（保证特征在同一尺度上）\n",
    "scaler2 = StandardScaler()\n",
    "X_scaled = scaler2.fit_transform(X)\n",
    "\n",
    "# 8. 划分训练集与测试集（不使用SMOTE，保持原始分布）\n",
    "from sklearn.model_selection import train_test_split\n",
    "X_train, X_test, y_train, y_test = train_test_split(\n",
    "    X_scaled, y, test_size=0.2, random_state=42, stratify=y\n",
    ")\n",
    "\n",
    "# 9. 使用 LightGBM 模型进行训练和预测\n",
    "from lightgbm import LGBMClassifier\n",
    "lgbm = LGBMClassifier(random_state=42)\n",
    "lgbm.fit(X_train, y_train)\n",
    "y_pred = lgbm.predict(X_test)\n",
    "\n",
    "# 10. 模型评估\n",
    "from sklearn.metrics import classification_report, confusion_matrix\n",
    "print(\"混淆矩阵：\\n\", confusion_matrix(y_test, y_pred))\n",
    "print(\"分类报告：\\n\", classification_report(y_test, y_pred))\n",
    "\n"
   ]
  },
  {
   "cell_type": "code",
   "execution_count": null,
   "id": "8bf76e62-7998-4081-8bc8-180f9c2abf5d",
   "metadata": {},
   "outputs": [],
   "source": []
  }
 ],
 "metadata": {
  "kernelspec": {
   "display_name": "Python 3 (ipykernel)",
   "language": "python",
   "name": "python3"
  },
  "language_info": {
   "codemirror_mode": {
    "name": "ipython",
    "version": 3
   },
   "file_extension": ".py",
   "mimetype": "text/x-python",
   "name": "python",
   "nbconvert_exporter": "python",
   "pygments_lexer": "ipython3",
   "version": "3.11.5"
  }
 },
 "nbformat": 4,
 "nbformat_minor": 5
}
