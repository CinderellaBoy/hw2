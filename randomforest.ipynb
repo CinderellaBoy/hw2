{
 "cells": [
  {
   "cell_type": "code",
   "execution_count": 4,
   "id": "1f53a03f-bb8d-49db-b5cb-7880cb7ef8c5",
   "metadata": {},
   "outputs": [
    {
     "name": "stdout",
     "output_type": "stream",
     "text": [
      "数据合并完成，总行数： 942045\n",
      "故障标签分布：\n",
      " fault\n",
      "0    941946\n",
      "1        99\n",
      "Name: count, dtype: int64\n",
      "原始类别分布： Counter({0: 941946, 1: 99})\n",
      "SMOTE后类别分布： Counter({0: 941946, 1: 941946})\n",
      "\n",
      "--- 优化后的分类报告 ---\n",
      "              precision     recall   f1-score    support\n",
      "0                0.9997     0.9854     0.9925     188390\n",
      "1                0.9856     0.9997     0.9926     188389\n"
     ]
    }
   ],
   "source": [
    "import pandas as pd\n",
    "import numpy as np\n",
    "import os\n",
    "from sklearn.model_selection import train_test_split\n",
    "from sklearn.ensemble import RandomForestClassifier\n",
    "from sklearn.preprocessing import StandardScaler\n",
    "from sklearn.metrics import classification_report\n",
    "from imblearn.over_sampling import SMOTE\n",
    "from collections import Counter\n",
    "\n",
    "def load_and_merge_data(directory, filenames):\n",
    "    all_dfs = []\n",
    "    for file in filenames:\n",
    "        path = os.path.join(directory, file)\n",
    "        df = pd.read_csv(path)\n",
    "        df['fault'] = np.where((df['f17'] == 1) | (df['f18'] == 1), 1, 0)\n",
    "        all_dfs.append(df)\n",
    "    merged_df = pd.concat(all_dfs, ignore_index=True)\n",
    "    print(\"数据合并完成，总行数：\", len(merged_df))\n",
    "    print(\"故障标签分布：\\n\", merged_df['fault'].value_counts())\n",
    "    return merged_df\n",
    "\n",
    "def build_features(df):\n",
    "    feature_cols = df.columns.difference(['f1', 'f2', 'f17', 'f18', 'fault'])\n",
    "    X = df[feature_cols]\n",
    "    y = df['fault']\n",
    "    scaler = StandardScaler()\n",
    "    X_scaled = scaler.fit_transform(X)\n",
    "    return X_scaled, y\n",
    "\n",
    "def train_and_evaluate(X, y):\n",
    "    print(\"原始类别分布：\", Counter(y))\n",
    "\n",
    "    smote = SMOTE(random_state=42)\n",
    "    X_resampled, y_resampled = smote.fit_resample(X, y)\n",
    "    print(\"SMOTE后类别分布：\", Counter(y_resampled))\n",
    "\n",
    "    X_train, X_test, y_train, y_test = train_test_split(\n",
    "        X_resampled, y_resampled, test_size=0.2, random_state=42, stratify=y_resampled\n",
    "    )\n",
    "\n",
    "    clf = RandomForestClassifier(n_estimators=100, max_depth=12, random_state=42)\n",
    "    clf.fit(X_train, y_train)\n",
    "\n",
    "    y_test_pred = clf.predict(X_test)\n",
    "\n",
    "    print(\"\\n--- 优化后的分类报告 ---\")\n",
    "    report_dict = classification_report(y_test, y_test_pred, output_dict=True)\n",
    "    print(\"{:<12} {:>10} {:>10} {:>10} {:>10}\".format(\n",
    "        \"\", \"precision\", \"recall\", \"f1-score\", \"support\"))\n",
    "    for label in [\"0\", \"1\"]:\n",
    "        row = report_dict[label]\n",
    "        print(\"{:<12} {:10.4f} {:10.4f} {:10.4f} {:10.0f}\".format(\n",
    "            label, row[\"precision\"], row[\"recall\"], row[\"f1-score\"], row[\"support\"]))\n",
    "\n",
    "def main():\n",
    "    data_dir = r\"E:\\Datahw2\"\n",
    "    file_list = [f\"tube{i}.csv\" for i in range(1, 6)]\n",
    "    df = load_and_merge_data(data_dir, file_list)\n",
    "    X, y = build_features(df)\n",
    "    train_and_evaluate(X, y)\n",
    "\n",
    "if __name__ == \"__main__\":\n",
    "    main()\n"
   ]
  },
  {
   "cell_type": "code",
   "execution_count": null,
   "id": "8b72854c-fc4d-4453-aa52-0ba7efa180b6",
   "metadata": {},
   "outputs": [],
   "source": []
  }
 ],
 "metadata": {
  "kernelspec": {
   "display_name": "Python 3 (ipykernel)",
   "language": "python",
   "name": "python3"
  },
  "language_info": {
   "codemirror_mode": {
    "name": "ipython",
    "version": 3
   },
   "file_extension": ".py",
   "mimetype": "text/x-python",
   "name": "python",
   "nbconvert_exporter": "python",
   "pygments_lexer": "ipython3",
   "version": "3.11.5"
  }
 },
 "nbformat": 4,
 "nbformat_minor": 5
}
